{
 "cells": [
  {
   "cell_type": "markdown",
   "id": "b0b87474",
   "metadata": {},
   "source": [
    "# Concepts of machine learning"
   ]
  },
  {
   "cell_type": "markdown",
   "id": "61f4c573",
   "metadata": {},
   "source": [
    "## Levels of Data Analytics"
   ]
  },
  {
   "cell_type": "markdown",
   "id": "c353d702",
   "metadata": {},
   "source": [
    "Data analytics is often divided into four levels as follows:"
   ]
  },
  {
   "cell_type": "markdown",
   "id": "79e333e2",
   "metadata": {},
   "source": [
    "<img src=\"http://myy.haaga-helia.fi/~menetelmat/Data-analytiikka/levels-of-data-analytics.png\" alt=\"Gartner Analytic Ascendacy Model\">"
   ]
  },
  {
   "cell_type": "markdown",
   "id": "0d490b98",
   "metadata": {},
   "source": [
    "In descriptive analytics distributions of variables are described as frequency tables, and as statistical numbers..."
   ]
  },
  {
   "cell_type": "markdown",
   "id": "cb264c32",
   "metadata": {},
   "source": [
    "Descriptive analytics presents distributions of variables as frequency tablea, and statistical numbers. Diagnostic analytics examines dependencies between variables by cross-tabulation, comparison of statistical numbers, and correlations. Machine learning models are used for predictive analytics. Prescriptive analytics is based on descriptive, diagnostic and predictive analytics, but may also include other types of computation methods (for example, linear optimization)."
   ]
  },
  {
   "cell_type": "markdown",
   "id": "ff2c1d51",
   "metadata": {},
   "source": [
    "## Classification of machine learning methods"
   ]
  },
  {
   "cell_type": "markdown",
   "id": "5f12544f",
   "metadata": {},
   "source": [
    "Machine learning algorithms used for predictive analytics can be classified as follows:"
   ]
  },
  {
   "cell_type": "markdown",
   "id": "5eabe037",
   "metadata": {},
   "source": [
    "- **Supervised learning**: The algorithm is taught using training data. For example, a spam filter is taught using email data with different information about each email, as well as information about whether the email was spam. Based on this data, a model is formed that can be used to identify spam messages from incoming emails.\n",
    "- **Unsupervised learning**: For example, dividing customers into customer segments.\n",
    "- **Reinforcement learning**: The algorithm performs actions and receives feedback on them in the form of rewards and penalties. The algorithm learns about the rewards and penalties it receives. Reinforced learning is used in robotics, for example."
   ]
  },
  {
   "cell_type": "markdown",
   "id": "0e340cf9",
   "metadata": {},
   "source": [
    "In the following supervised and unsupervised learning are divided into subtypes:"
   ]
  },
  {
   "cell_type": "markdown",
   "id": "aed44637",
   "metadata": {},
   "source": [
    "<img src=\"http://myy.haaga-helia.fi/~menetelmat/Data-analytiikka/machine_learning_subtypes.png\">"
   ]
  },
  {
   "cell_type": "markdown",
   "id": "9a6afc43",
   "metadata": {},
   "source": [
    "## Supervised learning"
   ]
  },
  {
   "cell_type": "markdown",
   "id": "353ae767",
   "metadata": {},
   "source": [
    "In supervised learning:"
   ]
  },
  {
   "cell_type": "markdown",
   "id": "0822cd19",
   "metadata": {},
   "source": [
    "- The machine generates (learns) the model using the **training set**.\n",
    "- The training data consists of independent variables (**feature matrix**) and a dependent, i.e., a predictable variable (**target**).\n",
    "- In the training data, the values (**labels**) of the variable to be predicted  are known.\n",
    "- Using the learned model, the machine is able to predict the values (**labels**) of a predictable variable for new data."
   ]
  },
  {
   "cell_type": "markdown",
   "id": "527c28a1",
   "metadata": {},
   "source": [
    "<img src=\"http://myy.haaga-helia.fi/~menetelmat/Data-analytiikka/training_set.png\">"
   ]
  },
  {
   "cell_type": "markdown",
   "id": "951df69f",
   "metadata": {},
   "source": [
    "The supervised learning process proceeds according to the following figure:"
   ]
  },
  {
   "cell_type": "markdown",
   "id": "b23a2163",
   "metadata": {},
   "source": [
    "<img src=\"http://myy.haaga-helia.fi/~menetelmat/Data-analytiikka/supervised_learning_process.png\">"
   ]
  },
  {
   "cell_type": "markdown",
   "id": "9ef441b0",
   "metadata": {},
   "source": [
    "Supervised learning in which the variable to be predicted is categorical (discrete label) is used, for example, in the following:"
   ]
  },
  {
   "cell_type": "markdown",
   "id": "9badea36",
   "metadata": {},
   "source": [
    "- Spam filter\n",
    "- Diagnosis of the disease\n",
    "- Anticipating a payment disruption\n",
    "- Recognition of insurance fraud\n",
    "- Mechanical reading of car registration number\n",
    "- Identifying objects from a photograph"
   ]
  },
  {
   "cell_type": "markdown",
   "id": "c476746f",
   "metadata": {},
   "source": [
    "In such situations, **classification** is involved and the classification models used include:"
   ]
  },
  {
   "cell_type": "markdown",
   "id": "7456e296",
   "metadata": {},
   "source": [
    "- Logistic regression\n",
    "- Decision Tree\n",
    "- Random Forest\n",
    "- Gradient Boosting"
   ]
  },
  {
   "cell_type": "markdown",
   "id": "b85769fb",
   "metadata": {},
   "source": [
    "In practice, linearly separable classes are easier to distinguish:"
   ]
  },
  {
   "cell_type": "markdown",
   "id": "b699487e",
   "metadata": {},
   "source": [
    "<img src=\"http://myy.haaga-helia.fi/~menetelmat/Data-analytiikka/linearly_separable.png\">"
   ]
  },
  {
   "cell_type": "markdown",
   "id": "b89b79d6",
   "metadata": {},
   "source": [
    "Supervised learning in which the variable to be predicted is quantitative (continuous label) is used, for example, in the following:"
   ]
  },
  {
   "cell_type": "markdown",
   "id": "1985d884",
   "metadata": {},
   "source": [
    "- Demand forecasting\n",
    "- Apartment price\n",
    "- Used Car Price"
   ]
  },
  {
   "cell_type": "markdown",
   "id": "5ebdbf71",
   "metadata": {},
   "source": [
    "In such situations, different regression models are used, for example"
   ]
  },
  {
   "cell_type": "markdown",
   "id": "737b19e5",
   "metadata": {},
   "source": [
    "- Linear Regression\n",
    "- Random Forest Regression\n",
    "- Gradient Boosting Regressor"
   ]
  },
  {
   "cell_type": "markdown",
   "id": "3de700c8",
   "metadata": {},
   "source": [
    "<img src=\"http://myy.haaga-helia.fi/~menetelmat/Data-analytiikka/regression.png\">"
   ]
  },
  {
   "cell_type": "markdown",
   "id": "9feee3a8",
   "metadata": {},
   "source": [
    "## Unsupervised learning"
   ]
  },
  {
   "cell_type": "markdown",
   "id": "684c01a0",
   "metadata": {},
   "source": [
    "Unsupervised learning can be used, for example, to form customer segments. In unsupervised learning, only independent variables (**feature matrix**) are used."
   ]
  },
  {
   "cell_type": "markdown",
   "id": "2e1838c9",
   "metadata": {},
   "source": [
    "<img src=\"http://myy.haaga-helia.fi/~menetelmat/Data-analytiikka/k-means_clustering.png\">"
   ]
  },
  {
   "cell_type": "markdown",
   "id": "b036ddf4",
   "metadata": {},
   "source": [
    "The most used method is K-means clustering, where K refers to the number of clusters to be formed, which in this method is decided in advance."
   ]
  },
  {
   "cell_type": "markdown",
   "id": "964d34b1",
   "metadata": {},
   "source": [
    "Principal component analysis can be used to simplify, illustrate and identify underlying structures. With this method, a smaller set of independent variables (**feature matrix**) is formed by computation. The following figures show the original three-variable setup simplify as a two-variable setup."
   ]
  },
  {
   "cell_type": "markdown",
   "id": "a770d7c4",
   "metadata": {},
   "source": [
    "<img src=\"http://myy.haaga-helia.fi/~menetelmat/Data-analytiikka/feature_matrix.png\">"
   ]
  },
  {
   "cell_type": "markdown",
   "id": "1e8034b8",
   "metadata": {},
   "source": [
    "The principal component analysis can be used, for example, to identify different talents (verbal, mathematical, etc.)."
   ]
  },
  {
   "cell_type": "markdown",
   "id": "0d83a160",
   "metadata": {},
   "source": [
    "Source and origin of inspiration:<br /> \n",
    "Aki Taanila: Data-analytiikka Pythonilla: <a href=\"https://tilastoapu.wordpress.com/python/\">https://tilastoapu.wordpress.com/python/</a>"
   ]
  }
 ],
 "metadata": {
  "kernelspec": {
   "display_name": "Python 3",
   "language": "python",
   "name": "python3"
  },
  "language_info": {
   "codemirror_mode": {
    "name": "ipython",
    "version": 3
   },
   "file_extension": ".py",
   "mimetype": "text/x-python",
   "name": "python",
   "nbconvert_exporter": "python",
   "pygments_lexer": "ipython3",
   "version": "3.7.11"
  }
 },
 "nbformat": 4,
 "nbformat_minor": 5
}
