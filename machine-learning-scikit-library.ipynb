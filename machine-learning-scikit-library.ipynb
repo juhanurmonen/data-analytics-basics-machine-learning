{
 "cells": [
  {
   "cell_type": "markdown",
   "id": "85f3561b",
   "metadata": {},
   "source": [
    "# Machine Learning and scikit-learn Library"
   ]
  },
  {
   "cell_type": "markdown",
   "id": "5b3a3556",
   "metadata": {},
   "source": [
    "When using Python, most machine learning models can be found in the sklearn (scikit-learn) library. In this notebook, you will learn the basics of using sklearn library models."
   ]
  },
  {
   "cell_type": "markdown",
   "id": "662eced2",
   "metadata": {},
   "source": [
    "The use of the models is carried out through the following steps:"
   ]
  },
  {
   "cell_type": "markdown",
   "id": "a98355f2",
   "metadata": {},
   "source": [
    "- Prepare data\n",
    "- Import a model\n",
    "- Fit the model to the data\n",
    "- Evaluate the model's accuracy to the data\n",
    "- Use the model to predict"
   ]
  },
  {
   "cell_type": "markdown",
   "id": "0185b702",
   "metadata": {},
   "source": [
    "### Prepare data"
   ]
  },
  {
   "cell_type": "markdown",
   "id": "69856444",
   "metadata": {},
   "source": [
    "The data used must be carefully read in advance. Particular attention should be paid to:"
   ]
  },
  {
   "cell_type": "markdown",
   "id": "e5f55695",
   "metadata": {},
   "source": [
    "- **Missing values**: Most models do not tolerate missing values of variables. Rows containing missing values should be deleted or replace missing values in an appropriate way.\n",
    "- **Categorical variables**: Most models require variables to be quantitative. Categorical variables can be used if they are converted into dichotomous variables, i.e. dummy variables.\n",
    "- **Scaling**: If the independent variables differ in order of magnitude, then it is usually a good idea to scale the variables to the same order of magnitude. This can be done, for example, by converting the values of the variable into standard points. In this technique, the mean is subtracted from the value of the variable, and the difference is divided by the standard deviation, that is, calculate, how many standard deviations away the variable is from the mean."
   ]
  },
  {
   "cell_type": "markdown",
   "id": "e4071cf4",
   "metadata": {},
   "source": [
    "In supervised learning models, two dataframes are required."
   ]
  },
  {
   "cell_type": "markdown",
   "id": "afaebbc8",
   "metadata": {},
   "source": [
    "- Values of independent variables (**feature matrix**, x variables). This dataframe of the independent variables is often called **X**.\n",
    "- Values of the dependent/predictable variable (**target**, labels, y variable). This dataframe of the dependent variable is often called **y**."
   ]
  },
  {
   "cell_type": "markdown",
   "id": "2859dc7b",
   "metadata": {},
   "source": [
    "In unsupervised models, only the feature matrix is required."
   ]
  },
  {
   "cell_type": "markdown",
   "id": "4e9e86c3",
   "metadata": {},
   "source": [
    "### Import a model"
   ]
  },
  {
   "cell_type": "markdown",
   "id": "eba453c6",
   "metadata": {},
   "source": [
    "Import a model from the sklearn library. For example, the linear regression model can be imported in the following way:"
   ]
  },
  {
   "cell_type": "markdown",
   "id": "400a9088",
   "metadata": {},
   "source": [
    "<center>\n",
    "    <it>from sklearn.linear_model import LinearRegression</it>\n",
    "</center>"
   ]
  },
  {
   "cell_type": "markdown",
   "id": "5cc87eed",
   "metadata": {},
   "source": [
    "### Fit the model to data"
   ]
  },
  {
   "cell_type": "markdown",
   "id": "21369598",
   "metadata": {},
   "source": [
    "Fit the model to the data with the **fit** function and save the resulting object as the value of a variable."
   ]
  },
  {
   "cell_type": "markdown",
   "id": "35aaea60",
   "metadata": {},
   "source": [
    "For example, the following fits linear regression to the data X (dataframe of independent variables) and y (values of the variable to be predicted)."
   ]
  },
  {
   "cell_type": "markdown",
   "id": "6c534ce1",
   "metadata": {},
   "source": [
    "<center>\n",
    "    model = LinearRegression().fit(X, y)\n",
    "</center>"
   ]
  },
  {
   "cell_type": "markdown",
   "id": "f900f865",
   "metadata": {},
   "source": [
    "The resulting object (model) contains a variety of information about the model. In many examples found online and literature, the former is done in two steps:"
   ]
  },
  {
   "cell_type": "markdown",
   "id": "d7412f0e",
   "metadata": {},
   "source": [
    "<center>\n",
    "<DL>\n",
    "<DD> model = LinearRegression() </DD>\n",
    "<DD> model.fit(X, y) </DD>\n",
    "</DL>\n",
    "</center>"
   ]
  },
  {
   "cell_type": "markdown",
   "id": "1307be15",
   "metadata": {},
   "source": [
    "The resulting model object is the same, whichever way it was formed."
   ]
  },
  {
   "cell_type": "markdown",
   "id": "de8d5df2",
   "metadata": {},
   "source": [
    "The model can be tuned with various additional parameters. Any additional parameters are written inside the parentheses. For example, in the following, a linear regression model is formed that does not include the constant term (intercept) at all."
   ]
  },
  {
   "cell_type": "markdown",
   "id": "bfb8da63",
   "metadata": {},
   "source": [
    "<center>\n",
    "    model = LinearRegression(fit_intercept = False).fit(X, y)\n",
    "</center>"
   ]
  },
  {
   "cell_type": "markdown",
   "id": "f8ef70e5",
   "metadata": {},
   "source": [
    "Modifying models with additional parameters requires good knowledge of the models."
   ]
  },
  {
   "cell_type": "markdown",
   "id": "343b5f0e",
   "metadata": {},
   "source": [
    "### Accuracy of the model"
   ]
  },
  {
   "cell_type": "markdown",
   "id": "fb64bdb1",
   "metadata": {},
   "source": [
    "There are many methods for assessing the accuracy of the model. For example, you can print the value of the coefficient of determination, $R^2$, using the command **model.score(X, y)**. The coefficient of determination indicates how many percent of the variation in the dependent variable is explained by the model. See <a href=\"https://en.wikipedia.org/wiki/Coefficient_of_determination\">Coefficient of determination in Wikidedia</a>."
   ]
  },
  {
   "cell_type": "markdown",
   "id": "978078a0",
   "metadata": {},
   "source": [
    "### Predict using the model"
   ]
  },
  {
   "cell_type": "markdown",
   "id": "b169312d",
   "metadata": {},
   "source": [
    "Of course, the key step in predictive analytics is the calculation of predictions for new data. If the dataframe X_new contains new values of the dependent variable, then the predictions are obtained by the command:"
   ]
  },
  {
   "cell_type": "markdown",
   "id": "264a2bff",
   "metadata": {},
   "source": [
    "<center>\n",
    "    model.predict(X_new)\n",
    "</center>"
   ]
  },
  {
   "cell_type": "markdown",
   "id": "428c1f54",
   "metadata": {},
   "source": [
    "#### Further information"
   ]
  },
  {
   "cell_type": "markdown",
   "id": "7be9e1bb",
   "metadata": {},
   "source": [
    "Source and origin of inspiration: <br />\n",
    "Aki Taanila: Data-analytiikka Pythonilla: https://tilastoapu.wordpress.com/python/"
   ]
  }
 ],
 "metadata": {
  "kernelspec": {
   "display_name": "Python 3 (ipykernel)",
   "language": "python",
   "name": "python3"
  },
  "language_info": {
   "codemirror_mode": {
    "name": "ipython",
    "version": 3
   },
   "file_extension": ".py",
   "mimetype": "text/x-python",
   "name": "python",
   "nbconvert_exporter": "python",
   "pygments_lexer": "ipython3",
   "version": "3.8.12"
  }
 },
 "nbformat": 4,
 "nbformat_minor": 5
}
